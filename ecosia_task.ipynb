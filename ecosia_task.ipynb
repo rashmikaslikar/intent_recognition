{
 "cells": [
  {
   "cell_type": "code",
   "execution_count": 1,
   "id": "6185abf8",
   "metadata": {},
   "outputs": [],
   "source": [
    "import pandas as pd\n",
    "import numpy as np\n",
    "import matplotlib.pyplot as plt\n",
    "import seaborn as sns\n",
    "import torch\n",
    "import torch.nn as nn\n",
    "from sklearn.preprocessing import MinMaxScaler\n",
    "from sklearn.model_selection import train_test_split\n",
    "from sklearn.preprocessing import OneHotEncoder\n",
    "device=\"cpu\"\n",
    "import warnings\n",
    "warnings.filterwarnings('always')\n",
    "pd.options.mode.chained_assignment = None\n",
    "#cpu = not torch.cuda.is_available()\n",
    "#device = torch.device(\"cpu\" if cpu else \"cuda\")"
   ]
  },
  {
   "cell_type": "code",
   "execution_count": 2,
   "id": "46a05dd0",
   "metadata": {},
   "outputs": [],
   "source": [
    "from xgboost import XGBClassifier\n",
    "from sklearn.metrics import accuracy_score, classification_report, precision_recall_fscore_support\n",
    "from sklearn import metrics\n",
    "%matplotlib inline"
   ]
  },
  {
   "cell_type": "code",
   "execution_count": 3,
   "id": "1f26d9a3",
   "metadata": {},
   "outputs": [
    {
     "name": "stderr",
     "output_type": "stream",
     "text": [
      "Some weights of the model checkpoint at bert-base-multilingual-cased were not used when initializing BertModel: ['cls.seq_relationship.weight', 'cls.seq_relationship.bias', 'cls.predictions.bias', 'cls.predictions.transform.dense.bias', 'cls.predictions.transform.LayerNorm.weight', 'cls.predictions.transform.LayerNorm.bias', 'cls.predictions.transform.dense.weight']\n",
      "- This IS expected if you are initializing BertModel from the checkpoint of a model trained on another task or with another architecture (e.g. initializing a BertForSequenceClassification model from a BertForPreTraining model).\n",
      "- This IS NOT expected if you are initializing BertModel from the checkpoint of a model that you expect to be exactly identical (initializing a BertForSequenceClassification model from a BertForSequenceClassification model).\n"
     ]
    }
   ],
   "source": [
    "from transformers import BertTokenizer, BertModel\n",
    "tokenizer = BertTokenizer.from_pretrained('bert-base-multilingual-cased')\n",
    "model = BertModel.from_pretrained(\"bert-base-multilingual-cased\")"
   ]
  },
  {
   "cell_type": "code",
   "execution_count": 82,
   "id": "63162346",
   "metadata": {},
   "outputs": [],
   "source": [
    "import pickle"
   ]
  },
  {
   "cell_type": "code",
   "execution_count": 34,
   "id": "376e3bd4",
   "metadata": {},
   "outputs": [],
   "source": [
    "df=pd.read_csv('search_queries_candidate_dataset__jan_2024.csv')"
   ]
  },
  {
   "cell_type": "code",
   "execution_count": 35,
   "id": "f56c9682",
   "metadata": {},
   "outputs": [
    {
     "data": {
      "text/plain": [
       "(599, 8)"
      ]
     },
     "execution_count": 35,
     "metadata": {},
     "output_type": "execute_result"
    }
   ],
   "source": [
    "df.shape"
   ]
  },
  {
   "cell_type": "code",
   "execution_count": 36,
   "id": "e9db60dd",
   "metadata": {},
   "outputs": [
    {
     "data": {
      "text/html": [
       "<div>\n",
       "<style scoped>\n",
       "    .dataframe tbody tr th:only-of-type {\n",
       "        vertical-align: middle;\n",
       "    }\n",
       "\n",
       "    .dataframe tbody tr th {\n",
       "        vertical-align: top;\n",
       "    }\n",
       "\n",
       "    .dataframe thead th {\n",
       "        text-align: right;\n",
       "    }\n",
       "</style>\n",
       "<table border=\"1\" class=\"dataframe\">\n",
       "  <thead>\n",
       "    <tr style=\"text-align: right;\">\n",
       "      <th></th>\n",
       "      <th>date</th>\n",
       "      <th>search_query</th>\n",
       "      <th>market</th>\n",
       "      <th>geo_country</th>\n",
       "      <th>device_type</th>\n",
       "      <th>browser_name</th>\n",
       "      <th>intent</th>\n",
       "      <th>daily_query_count</th>\n",
       "    </tr>\n",
       "  </thead>\n",
       "  <tbody>\n",
       "    <tr>\n",
       "      <th>0</th>\n",
       "      <td>2023-12-08</td>\n",
       "      <td>google translate</td>\n",
       "      <td>en-gb</td>\n",
       "      <td>GB</td>\n",
       "      <td>Desktop</td>\n",
       "      <td>Chrome</td>\n",
       "      <td>TRANSLATION</td>\n",
       "      <td>2</td>\n",
       "    </tr>\n",
       "    <tr>\n",
       "      <th>1</th>\n",
       "      <td>2023-12-08</td>\n",
       "      <td>rephrase</td>\n",
       "      <td>en-gb</td>\n",
       "      <td>GB</td>\n",
       "      <td>Desktop</td>\n",
       "      <td>Chrome</td>\n",
       "      <td>DICTIONARY</td>\n",
       "      <td>2</td>\n",
       "    </tr>\n",
       "    <tr>\n",
       "      <th>2</th>\n",
       "      <td>2023-12-31</td>\n",
       "      <td>amazon</td>\n",
       "      <td>en-gb</td>\n",
       "      <td>GB</td>\n",
       "      <td>Mobile</td>\n",
       "      <td>Chrome</td>\n",
       "      <td>NAVIGATION</td>\n",
       "      <td>2</td>\n",
       "    </tr>\n",
       "    <tr>\n",
       "      <th>3</th>\n",
       "      <td>2023-12-29</td>\n",
       "      <td>facebook</td>\n",
       "      <td>fr-fr</td>\n",
       "      <td>FR</td>\n",
       "      <td>Mobile</td>\n",
       "      <td>Ecosia ios</td>\n",
       "      <td>NAVIGATION</td>\n",
       "      <td>3</td>\n",
       "    </tr>\n",
       "    <tr>\n",
       "      <th>4</th>\n",
       "      <td>2023-12-23</td>\n",
       "      <td>tv programm</td>\n",
       "      <td>de-de</td>\n",
       "      <td>DE</td>\n",
       "      <td>Mobile</td>\n",
       "      <td>Safari</td>\n",
       "      <td>OTHER</td>\n",
       "      <td>3</td>\n",
       "    </tr>\n",
       "  </tbody>\n",
       "</table>\n",
       "</div>"
      ],
      "text/plain": [
       "         date      search_query market geo_country device_type browser_name   \n",
       "0  2023-12-08  google translate  en-gb          GB     Desktop       Chrome  \\\n",
       "1  2023-12-08          rephrase  en-gb          GB     Desktop       Chrome   \n",
       "2  2023-12-31            amazon  en-gb          GB      Mobile       Chrome   \n",
       "3  2023-12-29          facebook  fr-fr          FR      Mobile   Ecosia ios   \n",
       "4  2023-12-23       tv programm  de-de          DE      Mobile       Safari   \n",
       "\n",
       "        intent  daily_query_count  \n",
       "0  TRANSLATION                  2  \n",
       "1   DICTIONARY                  2  \n",
       "2   NAVIGATION                  2  \n",
       "3   NAVIGATION                  3  \n",
       "4        OTHER                  3  "
      ]
     },
     "execution_count": 36,
     "metadata": {},
     "output_type": "execute_result"
    }
   ],
   "source": [
    "df.head(5)"
   ]
  },
  {
   "cell_type": "code",
   "execution_count": 37,
   "id": "a555cee0",
   "metadata": {},
   "outputs": [
    {
     "name": "stdout",
     "output_type": "stream",
     "text": [
      "<class 'pandas.core.frame.DataFrame'>\n",
      "RangeIndex: 599 entries, 0 to 598\n",
      "Data columns (total 8 columns):\n",
      " #   Column             Non-Null Count  Dtype \n",
      "---  ------             --------------  ----- \n",
      " 0   date               599 non-null    object\n",
      " 1   search_query       599 non-null    object\n",
      " 2   market             541 non-null    object\n",
      " 3   geo_country        535 non-null    object\n",
      " 4   device_type        539 non-null    object\n",
      " 5   browser_name       541 non-null    object\n",
      " 6   intent             537 non-null    object\n",
      " 7   daily_query_count  599 non-null    int64 \n",
      "dtypes: int64(1), object(7)\n",
      "memory usage: 37.6+ KB\n"
     ]
    }
   ],
   "source": [
    "df.info()"
   ]
  },
  {
   "cell_type": "markdown",
   "id": "9e08c7b4",
   "metadata": {},
   "source": [
    "# Data preprocessing\n",
    "\n",
    "## Feature Engineering and Selection\n",
    "\n",
    "There are 3 types of data in this dataset:  \n",
    "1. Categorical data\n",
    "2. Numeric data\n",
    "3. Text"
   ]
  },
  {
   "cell_type": "markdown",
   "id": "b03c3828",
   "metadata": {},
   "source": [
    "### Categorical data  \n",
    "Each categorical metric will have to be converted into multiple dummy variables or perform one hot encoding. Therefore, to reduce the number of dummy variables we will try to reduce the number of categories whenever possible/appropriate or entirely ignore a variable.\n",
    "\n",
    "### Numerical data\n",
    "Numerical data will be scaled to the range (0,1)\n",
    "\n",
    "### Text data\n",
    "The textual data will be converted to corresponding vector embeddings"
   ]
  },
  {
   "cell_type": "markdown",
   "id": "ea698d65",
   "metadata": {},
   "source": [
    "### Missing values\n",
    "Check if data has missing values. Missing values need to be handled properly.  "
   ]
  },
  {
   "cell_type": "code",
   "execution_count": 38,
   "id": "6b6a2728",
   "metadata": {},
   "outputs": [
    {
     "data": {
      "text/plain": [
       "date                  0.00\n",
       "search_query          0.00\n",
       "market                9.68\n",
       "geo_country          10.68\n",
       "device_type          10.02\n",
       "browser_name          9.68\n",
       "intent               10.35\n",
       "daily_query_count     0.00\n",
       "dtype: float64"
      ]
     },
     "execution_count": 38,
     "metadata": {},
     "output_type": "execute_result"
    }
   ],
   "source": [
    "nan_percentage=(df.isnull().sum() / len(df) * 100).round(2)\n",
    "nan_percentage"
   ]
  },
  {
   "cell_type": "markdown",
   "id": "d7868ecf",
   "metadata": {},
   "source": [
    "### Start by Analysing the target metric"
   ]
  },
  {
   "cell_type": "markdown",
   "id": "f5c3f214",
   "metadata": {},
   "source": [
    "### Metric: intent (target metric)\n",
    "The task is intent classification, therefore our target metric is 'intent'.  \n",
    "For this metric 10.35% of the values are missing. These data samples cannot be used for training and testing of the model and therefore will be directly removed.  \n",
    "Observe the distribution of the metric"
   ]
  },
  {
   "cell_type": "code",
   "execution_count": 39,
   "id": "694daaa7",
   "metadata": {},
   "outputs": [
    {
     "name": "stdout",
     "output_type": "stream",
     "text": [
      "Percentage of missing values in the target metric intent is 0.0\n"
     ]
    }
   ],
   "source": [
    "target_metric='intent'\n",
    "df=df.loc[~df[target_metric].isnull()]\n",
    "print(f'Percentage of missing values in the target metric intent is {(df[target_metric].isnull().sum()/len(df)*100).round(2)}')"
   ]
  },
  {
   "cell_type": "markdown",
   "id": "6430d0b8",
   "metadata": {},
   "source": [
    "### Distribution of the target metric"
   ]
  },
  {
   "cell_type": "code",
   "execution_count": 40,
   "id": "a84f99cd",
   "metadata": {},
   "outputs": [],
   "source": [
    "def intent_distribution(df,target):\n",
    "    sns.set()\n",
    "    plt.figure(figsize = (12, 8))\n",
    "    chart = sns.countplot(x = target, data = df, palette='pastel')\n",
    "    chart.set_xticklabels(chart.get_xticklabels(), rotation = 30, horizontalalignment='right', fontweight='light', fontsize='medium')\n",
    "    chart.set_title('Intent Distribution', fontsize = 18)\n",
    "    chart.set_xlabel('Intents', fontsize = 14)\n",
    "    chart.set_ylabel('Counts', fontsize = 14)\n",
    "    plt.show()"
   ]
  },
  {
   "cell_type": "code",
   "execution_count": 41,
   "id": "6974f82b",
   "metadata": {},
   "outputs": [
    {
     "data": {
      "image/png": "[encoded data removed]",
      "text/plain": [
       "<Figure size 1200x800 with 1 Axes>"
      ]
     },
     "metadata": {},
     "output_type": "display_data"
    }
   ],
   "source": [
    "intent_distribution(df,'intent')"
   ]
  },
  {
   "cell_type": "code",
   "execution_count": 42,
   "id": "0a515030",
   "metadata": {},
   "outputs": [
    {
     "data": {
      "text/plain": [
       "intent\n",
       "OTHER          32.216015\n",
       "QA             20.297952\n",
       "TRANSLATION    18.621974\n",
       "SHOPPING       12.290503\n",
       "NAVIGATION     11.173184\n",
       "DICTIONARY      3.538175\n",
       "WEATHER         0.931099\n",
       "COMPUTATION     0.931099\n",
       "Name: proportion, dtype: float64"
      ]
     },
     "execution_count": 42,
     "metadata": {},
     "output_type": "execute_result"
    }
   ],
   "source": [
    "df['intent'].value_counts(normalize=True)*100"
   ]
  },
  {
   "cell_type": "code",
   "execution_count": 43,
   "id": "cd4a08d7",
   "metadata": {},
   "outputs": [
    {
     "data": {
      "text/plain": [
       "date                 0.00\n",
       "search_query         0.00\n",
       "market               3.72\n",
       "geo_country          4.84\n",
       "device_type          4.10\n",
       "browser_name         3.17\n",
       "intent               0.00\n",
       "daily_query_count    0.00\n",
       "dtype: float64"
      ]
     },
     "execution_count": 43,
     "metadata": {},
     "output_type": "execute_result"
    }
   ],
   "source": [
    "nan_percentage=(df.isnull().sum() / len(df) * 100).round(2)\n",
    "nan_percentage"
   ]
  },
  {
   "cell_type": "markdown",
   "id": "b15780d9",
   "metadata": {},
   "source": [
    "### Encode intents into intent_id"
   ]
  },
  {
   "cell_type": "code",
   "execution_count": 44,
   "id": "5f50d46b",
   "metadata": {},
   "outputs": [],
   "source": [
    "df['intent_id']=df['intent'].factorize()[0]"
   ]
  },
  {
   "cell_type": "code",
   "execution_count": 45,
   "id": "976976fb",
   "metadata": {},
   "outputs": [
    {
     "name": "stderr",
     "output_type": "stream",
     "text": [
      "C:\\Users\\rashm\\anaconda3\\envs\\mwml\\lib\\site-packages\\pandas\\core\\dtypes\\cast.py:1429: DeprecationWarning: np.find_common_type is deprecated.  Please use `np.result_type` or `np.promote_types`.\n",
      "See https://numpy.org/devdocs/release/1.25.0-notes.html and the docs for more information.  (Deprecated NumPy 1.25)\n",
      "  return np.find_common_type(types, [])\n"
     ]
    }
   ],
   "source": [
    "intent_id_df = df[['intent', 'intent_id']].drop_duplicates().sort_values('intent_id')\n",
    "#intent_to_id = dict(intent_id_df.values)\n",
    "id_to_intent = dict(intent_id_df[['intent_id', 'intent']].values)"
   ]
  },
  {
   "cell_type": "code",
   "execution_count": 46,
   "id": "cf5a1a54",
   "metadata": {},
   "outputs": [
    {
     "data": {
      "text/plain": [
       "{0: 'TRANSLATION',\n",
       " 1: 'DICTIONARY',\n",
       " 2: 'NAVIGATION',\n",
       " 3: 'OTHER',\n",
       " 4: 'SHOPPING',\n",
       " 5: 'QA',\n",
       " 6: 'WEATHER',\n",
       " 7: 'COMPUTATION'}"
      ]
     },
     "execution_count": 46,
     "metadata": {},
     "output_type": "execute_result"
    }
   ],
   "source": [
    "id_to_intent"
   ]
  },
  {
   "cell_type": "code",
   "execution_count": 47,
   "id": "aa210f9e",
   "metadata": {},
   "outputs": [],
   "source": [
    "df.drop('intent',axis=1,inplace=True)"
   ]
  },
  {
   "cell_type": "markdown",
   "id": "e69c2d1f",
   "metadata": {},
   "source": [
    "### Metric: date\n",
    "This metric will be ignored for simplicity"
   ]
  },
  {
   "cell_type": "code",
   "execution_count": 48,
   "id": "fd83e4cd",
   "metadata": {},
   "outputs": [],
   "source": [
    "df.drop('date',axis=1,inplace=True)"
   ]
  },
  {
   "cell_type": "markdown",
   "id": "f6e58b33",
   "metadata": {},
   "source": [
    "### Categorical metrics\n",
    "Each categorical metric will have to be converted into multiple dummy variables or perform one hot encoding. Therefore, to reduce the number of dummy variables we will try to reduce the number of categories whenever possible/appropriate or entirely ignore a variable.  \n",
    "These metrics will be one hot encoded and missing values will be filled with 'other'"
   ]
  },
  {
   "cell_type": "code",
   "execution_count": 49,
   "id": "ff527a2d",
   "metadata": {},
   "outputs": [],
   "source": [
    "cat_metrics=['market','geo_country','device_type','browser_name']\n",
    "for metric in cat_metrics:\n",
    "    df[metric].fillna('other',inplace=True)"
   ]
  },
  {
   "cell_type": "markdown",
   "id": "80215d0d",
   "metadata": {},
   "source": [
    "### Metric: geo_country\n",
    "Countries 'US','AT','GH' are grouped as 'other' as they have very few corresponding data samples"
   ]
  },
  {
   "cell_type": "code",
   "execution_count": 50,
   "id": "a0caa83c",
   "metadata": {},
   "outputs": [
    {
     "data": {
      "text/plain": [
       "geo_country\n",
       "FR       204\n",
       "DE       194\n",
       "GB       100\n",
       "other     26\n",
       "CN         6\n",
       "US         3\n",
       "AT         3\n",
       "GH         1\n",
       "Name: count, dtype: int64"
      ]
     },
     "execution_count": 50,
     "metadata": {},
     "output_type": "execute_result"
    }
   ],
   "source": [
    "df['geo_country'].value_counts()"
   ]
  },
  {
   "cell_type": "code",
   "execution_count": 51,
   "id": "10b0d2f6",
   "metadata": {},
   "outputs": [
    {
     "data": {
      "text/plain": [
       "geo_country\n",
       "FR       37.988827\n",
       "DE       36.126629\n",
       "GB       18.621974\n",
       "other     6.145251\n",
       "CN        1.117318\n",
       "Name: proportion, dtype: float64"
      ]
     },
     "execution_count": 51,
     "metadata": {},
     "output_type": "execute_result"
    }
   ],
   "source": [
    "other=['US','AT','GH']\n",
    "df['geo_country'] = df['geo_country'].apply(lambda x: 'other' if x in other else x)\n",
    "df['geo_country'].value_counts(normalize=True)*100"
   ]
  },
  {
   "cell_type": "markdown",
   "id": "c31071a9",
   "metadata": {},
   "source": [
    "### Metric: device_type\n",
    "device_type 'Tablet' is grouped as 'other' as there are very few corresponding data samples"
   ]
  },
  {
   "cell_type": "code",
   "execution_count": 52,
   "id": "57725dd4",
   "metadata": {},
   "outputs": [
    {
     "data": {
      "text/plain": [
       "device_type\n",
       "Desktop    264\n",
       "Mobile     248\n",
       "other       22\n",
       "Tablet       3\n",
       "Name: count, dtype: int64"
      ]
     },
     "execution_count": 52,
     "metadata": {},
     "output_type": "execute_result"
    }
   ],
   "source": [
    "df['device_type'].value_counts()"
   ]
  },
  {
   "cell_type": "code",
   "execution_count": 53,
   "id": "940e8277",
   "metadata": {},
   "outputs": [],
   "source": [
    "df['device_type'] = df['device_type'].apply(lambda x: 'other' if x == 'Tablet' else x)"
   ]
  },
  {
   "cell_type": "markdown",
   "id": "9eb22aab",
   "metadata": {},
   "source": [
    "### Metric: browser_name\n",
    "Browser name 'Brave' is grouped as 'other' as there are very few corresponding data samples"
   ]
  },
  {
   "cell_type": "code",
   "execution_count": 54,
   "id": "d1803580",
   "metadata": {},
   "outputs": [
    {
     "data": {
      "text/plain": [
       "browser_name\n",
       "Chrome        163\n",
       "Chromium      147\n",
       "Safari         56\n",
       "Ecosia ios     53\n",
       "Edge           51\n",
       "Firefox        49\n",
       "other          17\n",
       "Brave           1\n",
       "Name: count, dtype: int64"
      ]
     },
     "execution_count": 54,
     "metadata": {},
     "output_type": "execute_result"
    }
   ],
   "source": [
    "df['browser_name'].value_counts()"
   ]
  },
  {
   "cell_type": "code",
   "execution_count": 55,
   "id": "211a30ff",
   "metadata": {},
   "outputs": [],
   "source": [
    "df['browser_name'] = df['browser_name'].apply(lambda x: 'other' if x == 'Brave' else x)"
   ]
  },
  {
   "cell_type": "markdown",
   "id": "3db9b7b6",
   "metadata": {},
   "source": [
    "### Numeric metric: daily_query_count\n",
    "This metric will be scaled to the range of (0,1)"
   ]
  },
  {
   "cell_type": "code",
   "execution_count": 56,
   "id": "6c04b399",
   "metadata": {},
   "outputs": [],
   "source": [
    "def preprocess_num(values,scaler):    \n",
    "    scaled_values=scaler.transform(values)\n",
    "    return scaled_values"
   ]
  },
  {
   "cell_type": "markdown",
   "id": "f39d66a1",
   "metadata": {},
   "source": [
    "### Text Metric: search_query\n",
    "This metric does not have any missing values. The queries are multi-lingual, including the following languages: English, German, French and Chinese. Bert base multilingual is used for computing the word embeddings"
   ]
  },
  {
   "cell_type": "code",
   "execution_count": 57,
   "id": "44f597a8",
   "metadata": {},
   "outputs": [
    {
     "name": "stderr",
     "output_type": "stream",
     "text": [
      "Some weights of the model checkpoint at bert-base-multilingual-cased were not used when initializing BertModel: ['cls.seq_relationship.weight', 'cls.seq_relationship.bias', 'cls.predictions.bias', 'cls.predictions.transform.dense.bias', 'cls.predictions.transform.LayerNorm.weight', 'cls.predictions.transform.LayerNorm.bias', 'cls.predictions.transform.dense.weight']\n",
      "- This IS expected if you are initializing BertModel from the checkpoint of a model trained on another task or with another architecture (e.g. initializing a BertForSequenceClassification model from a BertForPreTraining model).\n",
      "- This IS NOT expected if you are initializing BertModel from the checkpoint of a model that you expect to be exactly identical (initializing a BertForSequenceClassification model from a BertForSequenceClassification model).\n"
     ]
    }
   ],
   "source": [
    "tokenizer = BertTokenizer.from_pretrained('bert-base-multilingual-cased')\n",
    "model = BertModel.from_pretrained(\"bert-base-multilingual-cased\")\n",
    "\n",
    "def get_text_embeddings(text):\n",
    "    # Tokenize and convert text to embeddings\n",
    "    input_ids = tokenizer.encode(text, return_tensors=\"pt\",truncation=True)\n",
    "    with torch.no_grad():\n",
    "        outputs = model(input_ids)\n",
    "\n",
    "    # The embeddings are contained in the last layer of the model's output\n",
    "    last_hidden_states = outputs.last_hidden_state\n",
    "\n",
    "    # You can extract the embedding for each token in the input\n",
    "    # For a simple example, you can average the embeddings across all tokens\n",
    "    average_embedding = torch.mean(last_hidden_states, dim=1).squeeze().numpy()\n",
    "\n",
    "    return average_embedding"
   ]
  },
  {
   "cell_type": "code",
   "execution_count": 58,
   "id": "0a200d3e",
   "metadata": {},
   "outputs": [],
   "source": [
    "def preprocess_text(queries):\n",
    "    col_embed=[]\n",
    "    for query in queries:\n",
    "        col_embed.append(get_text_embeddings(query))\n",
    "    #reduce the dimensionality of the embeddings\n",
    "    #reduced_embed=dense(torch.tensor(col_embed))\n",
    "    return np.array(col_embed)"
   ]
  },
  {
   "cell_type": "markdown",
   "id": "95e642e6",
   "metadata": {},
   "source": [
    "### Stratify split dataset into train and test "
   ]
  },
  {
   "cell_type": "code",
   "execution_count": 59,
   "id": "f94c6750",
   "metadata": {},
   "outputs": [
    {
     "data": {
      "text/plain": [
       "Index(['search_query', 'market', 'geo_country', 'device_type', 'browser_name',\n",
       "       'daily_query_count', 'intent_id'],\n",
       "      dtype='object')"
      ]
     },
     "execution_count": 59,
     "metadata": {},
     "output_type": "execute_result"
    }
   ],
   "source": [
    "df.columns"
   ]
  },
  {
   "cell_type": "code",
   "execution_count": 60,
   "id": "46826eb4",
   "metadata": {},
   "outputs": [],
   "source": [
    "y=df['intent_id'] #labels\n",
    "df.drop('intent_id',axis=1,inplace=True)\n",
    "X=df\n",
    "df_train, df_test, y_train, y_test = train_test_split(X,y,stratify=y,test_size=0.05,random_state=42)"
   ]
  },
  {
   "cell_type": "code",
   "execution_count": 61,
   "id": "f491074a",
   "metadata": {},
   "outputs": [
    {
     "data": {
      "text/plain": [
       "Index(['search_query', 'market', 'geo_country', 'device_type', 'browser_name',\n",
       "       'daily_query_count'],\n",
       "      dtype='object')"
      ]
     },
     "execution_count": 61,
     "metadata": {},
     "output_type": "execute_result"
    }
   ],
   "source": [
    "df_train.columns"
   ]
  },
  {
   "cell_type": "markdown",
   "id": "edaf78f9",
   "metadata": {},
   "source": [
    "## Preprocess data \n",
    "### Categorical data\n",
    "\n",
    "Fit one hot encoder on train data first and use it for test data"
   ]
  },
  {
   "cell_type": "code",
   "execution_count": 62,
   "id": "436b884f",
   "metadata": {},
   "outputs": [],
   "source": [
    "encoder = OneHotEncoder(handle_unknown = 'ignore')\n",
    "encoder.fit(df_train[cat_metrics])\n",
    "train_cat=encoder.transform(df_train[cat_metrics]).toarray()\n",
    "test_cat=encoder.transform(df_test[cat_metrics]).toarray()"
   ]
  },
  {
   "cell_type": "markdown",
   "id": "5a985ae5",
   "metadata": {},
   "source": [
    "### Numeric data\n",
    "\n",
    "Fit minmax scaler on train data first and use it for test data"
   ]
  },
  {
   "cell_type": "code",
   "execution_count": 63,
   "id": "3cc9aec6",
   "metadata": {},
   "outputs": [],
   "source": [
    "scaler = MinMaxScaler()\n",
    "values=df_train['daily_query_count'].values.reshape(-1,1)\n",
    "scaler.fit(values)\n",
    "\n",
    "train_num=preprocess_num(values,scaler)\n",
    "\n",
    "values=df_test['daily_query_count'].values.reshape(-1,1)\n",
    "test_num=preprocess_num(values,scaler)"
   ]
  },
  {
   "cell_type": "markdown",
   "id": "b0940e8f",
   "metadata": {},
   "source": [
    "### Text data\n",
    "\n",
    "The queries are multi-lingual, including the following languages: English, German, French and Chinese. Bert base multilingual is used for computing the word embeddings"
   ]
  },
  {
   "cell_type": "code",
   "execution_count": 64,
   "id": "d8fbe2e3",
   "metadata": {},
   "outputs": [],
   "source": [
    "train_query=preprocess_text(df_train['search_query'])\n",
    "X_train=np.concatenate((train_cat,train_num,train_query),axis=1)\n",
    "\n",
    "test_query=preprocess_text(df_test['search_query'])\n",
    "X_test=np.concatenate((test_cat,test_num,test_query),axis=1)"
   ]
  },
  {
   "cell_type": "code",
   "execution_count": 65,
   "id": "8cc55937",
   "metadata": {},
   "outputs": [
    {
     "data": {
      "text/plain": [
       "((510, 789), (27, 789))"
      ]
     },
     "execution_count": 65,
     "metadata": {},
     "output_type": "execute_result"
    }
   ],
   "source": [
    "X_train.shape, X_test.shape"
   ]
  },
  {
   "cell_type": "code",
   "execution_count": 84,
   "id": "1b6b2d80",
   "metadata": {},
   "outputs": [],
   "source": [
    "def save_model(model,file_name):\n",
    "    with open(file_name, 'wb') as file:  \n",
    "        pickle.dump(model, file)"
   ]
  },
  {
   "cell_type": "code",
   "execution_count": 85,
   "id": "0ac2493e",
   "metadata": {},
   "outputs": [],
   "source": [
    "save_model(scaler,'scaler.pkl')\n",
    "save_model(encoder,'encoder.pkl')"
   ]
  },
  {
   "cell_type": "markdown",
   "id": "e8f84996",
   "metadata": {},
   "source": [
    "### XGB Classifier is chosen for the classification "
   ]
  },
  {
   "cell_type": "code",
   "execution_count": 66,
   "id": "9d73e0ce",
   "metadata": {},
   "outputs": [],
   "source": [
    "XGBclassifier = XGBClassifier()\n",
    "\n",
    "clf_dict = {            \n",
    "            \"XGBClassifier\": XGBclassifier,           \n",
    "            }"
   ]
  },
  {
   "cell_type": "code",
   "execution_count": 67,
   "id": "6fdc6dc2",
   "metadata": {},
   "outputs": [],
   "source": [
    "def fit_classifier(label, clf, X_train, y_train):\n",
    "    print('======================================================')\n",
    "    print(\"Training Classifier : \", label)\n",
    "    return clf.fit(X_train, y_train)"
   ]
  },
  {
   "cell_type": "code",
   "execution_count": 68,
   "id": "6c9acc81",
   "metadata": {},
   "outputs": [],
   "source": [
    "def test_classifier(label, clf, X_test, y_test):\n",
    "    print('======================================================')\n",
    "    print(\"Testing Classifier: \", label)\n",
    "    \n",
    "    y_pred = clf.predict(X_test)\n",
    "    #classification_report = classification_report(y_test, y_pred)\n",
    "    accuracy = accuracy_score(y_test, y_pred)\n",
    "    precision,recall,fscore,support=precision_recall_fscore_support(y_test,y_pred,average='macro')\n",
    "    print('\\nClassification Metrics:')\n",
    "    print('Precision : {}'.format(precision))\n",
    "    print( 'Recall    : {}'.format(recall))\n",
    "    print('F-score   : {}'.format(fscore))\n",
    "    print('Accuracy  : {}'.format(accuracy))\n",
    "    print('======================================================')"
   ]
  },
  {
   "cell_type": "code",
   "execution_count": 69,
   "id": "8dde4410",
   "metadata": {},
   "outputs": [],
   "source": [
    "def train_clf(clf_dict, X_train, y_train):\n",
    "    \n",
    "    print(\"Training the model:\")\n",
    "    \n",
    "    for label, clf in clf_dict.items():\n",
    "        print(np.unique(y_train))\n",
    "        trained_classifier = fit_classifier(label, clf, X_train, y_train)\n",
    "        print('======================================================')\n",
    "    return trained_classifier"
   ]
  },
  {
   "cell_type": "markdown",
   "id": "ad2c88e4",
   "metadata": {},
   "source": [
    "### Train classifier"
   ]
  },
  {
   "cell_type": "code",
   "execution_count": 70,
   "id": "16a59f0d",
   "metadata": {},
   "outputs": [
    {
     "name": "stdout",
     "output_type": "stream",
     "text": [
      "Training the model:\n",
      "[0 1 2 3 4 5 6 7]\n",
      "======================================================\n",
      "Training Classifier :  XGBClassifier\n",
      "======================================================\n"
     ]
    }
   ],
   "source": [
    "trained_classifier=train_clf(clf_dict, X_train, y_train)"
   ]
  },
  {
   "cell_type": "markdown",
   "id": "039a7761",
   "metadata": {},
   "source": [
    "### Test classifier on hold out"
   ]
  },
  {
   "cell_type": "code",
   "execution_count": 71,
   "id": "f48822eb",
   "metadata": {},
   "outputs": [
    {
     "name": "stdout",
     "output_type": "stream",
     "text": [
      "======================================================\n",
      "Testing Classifier:  XGBClassifier\n",
      "\n",
      "Classification Metrics:\n",
      "Precision : 0.6666666666666666\n",
      "Recall    : 0.55\n",
      "F-score   : 0.5767195767195767\n",
      "Accuracy  : 0.6296296296296297\n",
      "======================================================\n"
     ]
    }
   ],
   "source": [
    "test_classifier(\"XGBClassifier\", trained_classifier, X_test, y_test)"
   ]
  },
  {
   "cell_type": "code",
   "execution_count": 79,
   "id": "523d85a4",
   "metadata": {},
   "outputs": [],
   "source": [
    "def evaluate_model_performance(df_test):\n",
    "    queries=df_test['search_query'].values\n",
    "    for metric in ['market','geo_country','device_type','browser_name']:\n",
    "        df_test[metric].fillna('other',inplace=True)\n",
    "    input_cat=encoder.transform(df_test[cat_metrics]).toarray()\n",
    "    values=df_test['daily_query_count'].values.reshape(-1,1)\n",
    "    input_num=preprocess_num(values,scaler)\n",
    "    input_query=preprocess_text(df_test['search_query'])\n",
    "    data_input=np.concatenate((input_cat,input_num,input_query),axis=1) \n",
    "    y_pred=trained_classifier.predict(data_input)\n",
    "    for i,pred in enumerate(y_pred):\n",
    "        print(f'Query: {queries[i]}, Intent:{id_to_intent[pred]}')\n",
    "    print(y_pred)"
   ]
  },
  {
   "cell_type": "code",
   "execution_count": 80,
   "id": "1f83efc3",
   "metadata": {},
   "outputs": [
    {
     "name": "stdout",
     "output_type": "stream",
     "text": [
      "Query: antonin artaud lycee marseille, Intent:QA\n",
      "Query: handkreissäge, Intent:OTHER\n",
      "Query: übersetzer, Intent:DICTIONARY\n",
      "Query: chatgpt, Intent:OTHER\n",
      "Query: nintendo switch, Intent:OTHER\n",
      "Query: google traduction, Intent:TRANSLATION\n",
      "Query: google übersetzer, Intent:TRANSLATION\n",
      "Query: franceinfo, Intent:QA\n",
      "Query: google traduction, Intent:TRANSLATION\n",
      "[5 3 1 3 3 0 0 5 0]\n"
     ]
    }
   ],
   "source": [
    "evaluate_model_performance(df_test.head(9))"
   ]
  },
  {
   "cell_type": "code",
   "execution_count": 81,
   "id": "718ce699",
   "metadata": {},
   "outputs": [],
   "source": []
  },
  {
   "cell_type": "code",
   "execution_count": null,
   "id": "1cb8d186",
   "metadata": {},
   "outputs": [],
   "source": []
  }
 ],
 "metadata": {
  "kernelspec": {
   "display_name": "mwml",
   "language": "python",
   "name": "mwml"
  },
  "language_info": {
   "codemirror_mode": {
    "name": "ipython",
    "version": 3
   },
   "file_extension": ".py",
   "mimetype": "text/x-python",
   "name": "python",
   "nbconvert_exporter": "python",
   "pygments_lexer": "ipython3",
   "version": "3.10.13"
  }
 },
 "nbformat": 4,
 "nbformat_minor": 5
}
